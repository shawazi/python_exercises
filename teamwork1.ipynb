{
 "cells": [
  {
   "cell_type": "code",
   "execution_count": null,
   "metadata": {},
   "outputs": [],
   "source": [
    "lst = [1, 2, 3, 4, 5]\n",
    "def add(x):\n",
    "    print(\"first print \", x)\n",
    "    x.append(25)\n",
    "    print(\"second print\", x)\n",
    "\n",
    "add(25)\n",
    "\n",
    "print(\"global print\", lst)"
   ]
  }
 ],
 "metadata": {
  "language_info": {
   "name": "python"
  },
  "orig_nbformat": 4
 },
 "nbformat": 4,
 "nbformat_minor": 2
}
