{
 "cells": [
  {
   "cell_type": "code",
   "execution_count": 11,
   "metadata": {},
   "outputs": [
    {
     "name": "stdout",
     "output_type": "stream",
     "text": [
      "S\n",
      "hello\n"
     ]
    }
   ],
   "source": [
    "text = \"Full Stack\"\n",
    "\n",
    "print(text[5])\n",
    "print(\"hello\")"
   ]
  },
  {
   "cell_type": "code",
   "execution_count": 15,
   "metadata": {},
   "outputs": [
    {
     "name": "stdout",
     "output_type": "stream",
     "text": [
      "You Can Learn Almost Everything\n"
     ]
    }
   ],
   "source": [
    "text = \"tyou can learn almost everythingz\"\n",
    "print(text.strip(\"tz\").title())"
   ]
  },
  {
   "cell_type": "code",
   "execution_count": 19,
   "metadata": {},
   "outputs": [
    {
     "name": "stdout",
     "output_type": "stream",
     "text": [
      "In God we Trust\n"
     ]
    }
   ],
   "source": [
    "text = \"In God wee Trust\"\n",
    "print(text[0:9] + text[10:])"
   ]
  },
  {
   "cell_type": "code",
   "execution_count": 22,
   "metadata": {},
   "outputs": [
    {
     "name": "stdout",
     "output_type": "stream",
     "text": [
      "[1, 2, 2, 3, 4]\n"
     ]
    }
   ],
   "source": [
    "list = [1, 2, 3]\n",
    "list.append(4)\n",
    "list.insert(1, 2)\n",
    "print(list)"
   ]
  },
  {
   "cell_type": "code",
   "execution_count": 26,
   "metadata": {},
   "outputs": [
    {
     "name": "stdout",
     "output_type": "stream",
     "text": [
      "one two three\n",
      "['one', 'two', 'three']\n"
     ]
    }
   ],
   "source": [
    "mix_list = [1, [1, \"one\", 2, \"two\", 3, \"three\"], 4]\n",
    "print(mix_list[1][1], mix_list[1][3], mix_list[1][5])\n",
    "print(mix_list[1][1::2])"
   ]
  },
  {
   "cell_type": "code",
   "execution_count": 3,
   "metadata": {},
   "outputs": [
    {
     "name": "stdout",
     "output_type": "stream",
     "text": [
      "29\n"
     ]
    }
   ],
   "source": [
    "person = {\"first_name\": \"John\", \"last_name\": \"Doe\", \"age\": 29}\n",
    "print(person[\"age\"])"
   ]
  },
  {
   "cell_type": "code",
   "execution_count": 2,
   "metadata": {},
   "outputs": [
    {
     "name": "stdout",
     "output_type": "stream",
     "text": [
      "[55, 2, 3] [55, 2, 3]\n"
     ]
    }
   ],
   "source": [
    "list1 = [1, 2, 3]\n",
    "list2 = list1\n",
    "list2[0] = 55\n",
    "print(list1, list2)"
   ]
  },
  {
   "cell_type": "code",
   "execution_count": 9,
   "metadata": {},
   "outputs": [
    {
     "name": "stdout",
     "output_type": "stream",
     "text": [
      "{'h', 'a', 's'} {'w', 'e', 'a', 'l', 'g', 'o', 's', 'i', 'n', 'h', 't'} {'w', 'g', 'o', 'i', 'n', 't'}\n"
     ]
    }
   ],
   "source": [
    "usa = set(\"washington\")\n",
    "nz = set(\"wellington\")\n",
    "print(usa - nz, usa | nz, usa & nz)"
   ]
  },
  {
   "cell_type": "code",
   "execution_count": 13,
   "metadata": {},
   "outputs": [
    {
     "name": "stdout",
     "output_type": "stream",
     "text": [
      "{55}\n"
     ]
    }
   ],
   "source": [
    "lst1 = set([11, 22, 55, 77, 66, 99, 33])\n",
    "lst2 = set([1, 2, 3, 4, 5, 11, 55, 33])\n",
    "lst3 = set([10, 20, 30, 55, 60, 80])\n",
    "\n",
    "print(lst1 & lst2 & lst3)"
   ]
  },
  {
   "cell_type": "code",
   "execution_count": 32,
   "metadata": {},
   "outputs": [
    {
     "name": "stdout",
     "output_type": "stream",
     "text": [
      "{'New York', 'Boston'}\n",
      "Boston\n",
      "New York\n",
      "Boston\n",
      "Boston\n",
      "('New York', 'Boston')\n"
     ]
    }
   ],
   "source": [
    "person1 = {'first_name': 'John', 'last_name': 'Doe', 'age': 29, 'location': 'Boston', 'job': 'teacher'}\n",
    "person2 = {'first_name': 'Jane', 'last_name': 'Doe', 'age': 29, 'location': 'New York', 'job': 'teacher'}\n",
    "person3 = {'first_name': 'Alice', 'last_name': 'Doe', 'age': 29, 'location': 'Boston', 'job': 'teacher'}\n",
    "person4 = {'first_name': 'Jim', 'last_name': 'Doe', 'age': 29, 'location': 'Boston', 'job': 'teacher'}\n",
    "\n",
    "locations = person1[\"location\"], person2[\"location\"], person3[\"location\"], person4[\"location\"]\n",
    "print(set(locations))\n",
    "\n",
    "people = [person1, person2, person3, person4]\n",
    "loc = []\n",
    "for item in people:\n",
    "    print(item[\"location\"])\n",
    "\n",
    "    loc.append(item[\"location\"])\n",
    "    \n",
    "loc = tuple(set(loc))\n",
    "print(loc)\n",
    "\n",
    "    \n",
    "\n"
   ]
  },
  {
   "cell_type": "code",
   "execution_count": 34,
   "metadata": {},
   "outputs": [
    {
     "data": {
      "text/plain": [
       "False"
      ]
     },
     "execution_count": 34,
     "metadata": {},
     "output_type": "execute_result"
    }
   ],
   "source": [
    "def parrot_trouble(talking, hour):\n",
    "    if (hour < 6 or hour > 21) & talking :\n",
    "        return True\n",
    "    else:\n",
    "        return False\n",
    "\n",
    "parrot_trouble(True, 8)"
   ]
  },
  {
   "cell_type": "code",
   "execution_count": 4,
   "metadata": {},
   "outputs": [
    {
     "name": "stdout",
     "output_type": "stream",
     "text": [
      "bad\n"
     ]
    }
   ],
   "source": [
    "def not_string(word):\n",
    "    if word[0:3] == \"not\":\n",
    "        return word\n",
    "    else:\n",
    "        return \"not \" + word\n",
    "    \n",
    "print(not_string('not bad'))\n"
   ]
  },
  {
   "cell_type": "code",
   "execution_count": null,
   "metadata": {},
   "outputs": [],
   "source": [
    "def missing_char(word, n):\n",
    "    return word[0:n] + word[n+1:]"
   ]
  }
 ],
 "metadata": {
  "kernelspec": {
   "display_name": "Python 3",
   "language": "python",
   "name": "python3"
  },
  "language_info": {
   "codemirror_mode": {
    "name": "ipython",
    "version": 3
   },
   "file_extension": ".py",
   "mimetype": "text/x-python",
   "name": "python",
   "nbconvert_exporter": "python",
   "pygments_lexer": "ipython3",
   "version": "3.10.6"
  },
  "orig_nbformat": 4
 },
 "nbformat": 4,
 "nbformat_minor": 2
}
