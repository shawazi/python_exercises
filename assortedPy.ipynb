{
 "cells": [
  {
   "cell_type": "code",
   "execution_count": 11,
   "metadata": {},
   "outputs": [
    {
     "name": "stdout",
     "output_type": "stream",
     "text": [
      "S\n",
      "hello\n"
     ]
    }
   ],
   "source": [
    "text = \"Full Stack\"\n",
    "\n",
    "print(text[5])\n",
    "print(\"hello\")\n"
   ]
  },
  {
   "cell_type": "code",
   "execution_count": 15,
   "metadata": {},
   "outputs": [
    {
     "name": "stdout",
     "output_type": "stream",
     "text": [
      "You Can Learn Almost Everything\n"
     ]
    }
   ],
   "source": [
    "text = \"tyou can learn almost everythingz\"\n",
    "print(text.strip(\"tz\").title())\n"
   ]
  },
  {
   "cell_type": "code",
   "execution_count": 19,
   "metadata": {},
   "outputs": [
    {
     "name": "stdout",
     "output_type": "stream",
     "text": [
      "In God we Trust\n"
     ]
    }
   ],
   "source": [
    "text = \"In God wee Trust\"\n",
    "print(text[0:9] + text[10:])\n"
   ]
  },
  {
   "cell_type": "code",
   "execution_count": 22,
   "metadata": {},
   "outputs": [
    {
     "name": "stdout",
     "output_type": "stream",
     "text": [
      "[1, 2, 2, 3, 4]\n"
     ]
    }
   ],
   "source": [
    "list = [1, 2, 3]\n",
    "list.append(4)\n",
    "list.insert(1, 2)\n",
    "print(list)\n"
   ]
  },
  {
   "cell_type": "code",
   "execution_count": 26,
   "metadata": {},
   "outputs": [
    {
     "name": "stdout",
     "output_type": "stream",
     "text": [
      "one two three\n",
      "['one', 'two', 'three']\n"
     ]
    }
   ],
   "source": [
    "mix_list = [1, [1, \"one\", 2, \"two\", 3, \"three\"], 4]\n",
    "print(mix_list[1][1], mix_list[1][3], mix_list[1][5])\n",
    "print(mix_list[1][1::2])\n"
   ]
  },
  {
   "cell_type": "code",
   "execution_count": 3,
   "metadata": {},
   "outputs": [
    {
     "name": "stdout",
     "output_type": "stream",
     "text": [
      "29\n"
     ]
    }
   ],
   "source": [
    "person = {\"first_name\": \"John\", \"last_name\": \"Doe\", \"age\": 29}\n",
    "print(person[\"age\"])\n"
   ]
  },
  {
   "cell_type": "code",
   "execution_count": 2,
   "metadata": {},
   "outputs": [
    {
     "name": "stdout",
     "output_type": "stream",
     "text": [
      "[55, 2, 3] [55, 2, 3]\n"
     ]
    }
   ],
   "source": [
    "list1 = [1, 2, 3]\n",
    "list2 = list1\n",
    "list2[0] = 55\n",
    "print(list1, list2)\n"
   ]
  },
  {
   "cell_type": "code",
   "execution_count": 9,
   "metadata": {},
   "outputs": [
    {
     "name": "stdout",
     "output_type": "stream",
     "text": [
      "{'h', 'a', 's'} {'w', 'e', 'a', 'l', 'g', 'o', 's', 'i', 'n', 'h', 't'} {'w', 'g', 'o', 'i', 'n', 't'}\n"
     ]
    }
   ],
   "source": [
    "usa = set(\"washington\")\n",
    "nz = set(\"wellington\")\n",
    "print(usa - nz, usa | nz, usa & nz)\n"
   ]
  },
  {
   "cell_type": "code",
   "execution_count": 13,
   "metadata": {},
   "outputs": [
    {
     "name": "stdout",
     "output_type": "stream",
     "text": [
      "{55}\n"
     ]
    }
   ],
   "source": [
    "lst1 = set([11, 22, 55, 77, 66, 99, 33])\n",
    "lst2 = set([1, 2, 3, 4, 5, 11, 55, 33])\n",
    "lst3 = set([10, 20, 30, 55, 60, 80])\n",
    "\n",
    "print(lst1 & lst2 & lst3)\n"
   ]
  },
  {
   "cell_type": "code",
   "execution_count": 32,
   "metadata": {},
   "outputs": [
    {
     "name": "stdout",
     "output_type": "stream",
     "text": [
      "{'New York', 'Boston'}\n",
      "Boston\n",
      "New York\n",
      "Boston\n",
      "Boston\n",
      "('New York', 'Boston')\n"
     ]
    }
   ],
   "source": [
    "person1 = {'first_name': 'John', 'last_name': 'Doe',\n",
    "           'age': 29, 'location': 'Boston', 'job': 'teacher'}\n",
    "person2 = {'first_name': 'Jane', 'last_name': 'Doe',\n",
    "           'age': 29, 'location': 'New York', 'job': 'teacher'}\n",
    "person3 = {'first_name': 'Alice', 'last_name': 'Doe',\n",
    "           'age': 29, 'location': 'Boston', 'job': 'teacher'}\n",
    "person4 = {'first_name': 'Jim', 'last_name': 'Doe',\n",
    "           'age': 29, 'location': 'Boston', 'job': 'teacher'}\n",
    "\n",
    "locations = person1[\"location\"], person2[\"location\"], person3[\"location\"], person4[\"location\"]\n",
    "print(set(locations))\n",
    "\n",
    "people = [person1, person2, person3, person4]\n",
    "loc = []\n",
    "for item in people:\n",
    "    print(item[\"location\"])\n",
    "\n",
    "    loc.append(item[\"location\"])\n",
    "\n",
    "loc = tuple(set(loc))\n",
    "print(loc)\n"
   ]
  },
  {
   "cell_type": "code",
   "execution_count": 34,
   "metadata": {},
   "outputs": [
    {
     "data": {
      "text/plain": [
       "False"
      ]
     },
     "execution_count": 34,
     "metadata": {},
     "output_type": "execute_result"
    }
   ],
   "source": [
    "def parrot_trouble(talking, hour):\n",
    "    if (hour < 6 or hour > 21) & talking:\n",
    "        return True\n",
    "    else:\n",
    "        return False\n",
    "\n",
    "\n",
    "parrot_trouble(True, 8)\n"
   ]
  },
  {
   "cell_type": "code",
   "execution_count": 4,
   "metadata": {},
   "outputs": [
    {
     "name": "stdout",
     "output_type": "stream",
     "text": [
      "bad\n"
     ]
    }
   ],
   "source": [
    "def not_string(word):\n",
    "    if word[0:3] == \"not\":\n",
    "        return word\n",
    "    else:\n",
    "        return \"not \" + word\n",
    "\n",
    "\n",
    "print(not_string('not bad'))\n"
   ]
  },
  {
   "cell_type": "code",
   "execution_count": 6,
   "metadata": {},
   "outputs": [
    {
     "name": "stdout",
     "output_type": "stream",
     "text": [
      "kitcen\n"
     ]
    }
   ],
   "source": [
    "def missing_char(word, n):\n",
    "    return word[0:n] + word[n+1:]\n",
    "\n",
    "\n",
    "print(missing_char('kitchen', 4))\n"
   ]
  },
  {
   "cell_type": "code",
   "execution_count": 11,
   "metadata": {},
   "outputs": [
    {
     "name": "stdout",
     "output_type": "stream",
     "text": [
      "a\n"
     ]
    }
   ],
   "source": [
    "def front_back(word):\n",
    "    if len(word) == 1:\n",
    "        return word\n",
    "    else:\n",
    "        return word[-1] + word[1:-1] + word[0]\n",
    "\n",
    "\n",
    "print(front_back(\"a\"))\n"
   ]
  },
  {
   "cell_type": "code",
   "execution_count": 19,
   "metadata": {},
   "outputs": [
    {
     "name": "stdout",
     "output_type": "stream",
     "text": [
      "5\n"
     ]
    }
   ],
   "source": [
    "def my_min(*args):\n",
    "    return sorted(args)[0]\n",
    "\n",
    "\n",
    "print(my_min(5, 6, 7))\n"
   ]
  },
  {
   "cell_type": "code",
   "execution_count": 21,
   "metadata": {},
   "outputs": [
    {
     "name": "stdout",
     "output_type": "stream",
     "text": [
      "12\n",
      "60\n"
     ]
    }
   ],
   "source": [
    "def my_sum(*args):\n",
    "    return sum(args)\n",
    "\n",
    "\n",
    "print(my_sum(9, 1, 3, 0, -1))\n",
    "print(my_sum(10, -20, 30, 40))\n"
   ]
  },
  {
   "cell_type": "code",
   "execution_count": 25,
   "metadata": {},
   "outputs": [
    {
     "name": "stdout",
     "output_type": "stream",
     "text": [
      "40320\n"
     ]
    }
   ],
   "source": [
    "def my_fact(n):\n",
    "    result = 1\n",
    "    for i in range(1, n+1):\n",
    "        result = result * i\n",
    "    return result\n",
    "\n",
    "\n",
    "print(my_fact(8))\n"
   ]
  },
  {
   "cell_type": "code",
   "execution_count": 29,
   "metadata": {},
   "outputs": [
    {
     "name": "stdout",
     "output_type": "stream",
     "text": [
      "7\n"
     ]
    }
   ],
   "source": [
    "def most_freq(given_list):\n",
    "    freq_dict = {}\n",
    "    for i in given_list:\n",
    "        if i in freq_dict:\n",
    "            freq_dict[i] += 1\n",
    "        else:\n",
    "            freq_dict[i] = 1\n",
    "    max_count = max(freq_dict.values())\n",
    "    for i, count in freq_dict.items():\n",
    "        if count == max_count:\n",
    "            return i\n",
    "\n",
    "\n",
    "print(most_freq([1, 2, 3, 3, 3, 3, 4, 7, 7, 7, 7, 7, 7, 4, 5, 5]))\n"
   ]
  },
  {
   "cell_type": "code",
   "execution_count": 32,
   "metadata": {},
   "outputs": [
    {
     "name": "stdout",
     "output_type": "stream",
     "text": [
      "15\n",
      "21\n",
      "21\n"
     ]
    }
   ],
   "source": [
    "class Human:\n",
    "\n",
    "    age = 15\n",
    "\n",
    "    def __init__(self, name):\n",
    "\n",
    "        self._name = name\n",
    "\n",
    "\n",
    "hmn_1 = Human('Corey')\n",
    "\n",
    "print(hmn_1.age)\n",
    "\n",
    "Human.age = 21\n",
    "\n",
    "print(hmn_1.age)\n",
    "\n",
    "hmn_1.age = 20\n",
    "\n",
    "print(Human.age)\n"
   ]
  },
  {
   "cell_type": "code",
   "execution_count": 33,
   "metadata": {},
   "outputs": [
    {
     "data": {
      "text/plain": [
       "'walking...'"
      ]
     },
     "execution_count": 33,
     "metadata": {},
     "output_type": "execute_result"
    }
   ],
   "source": [
    "class Dog:\n",
    "    def walk(self):\n",
    "        return \"walking...\"\n",
    "\n",
    "    def speak(self):\n",
    "        return \"Woof!\"\n",
    "\n",
    "\n",
    "class BabyDog(Dog):\n",
    "    def speak(self):\n",
    "        return \"Arff!\"\n",
    "\n",
    "\n",
    "dog = BabyDog()\n",
    "dog.walk()\n"
   ]
  },
  {
   "cell_type": "code",
   "execution_count": 34,
   "metadata": {},
   "outputs": [
    {
     "name": "stdout",
     "output_type": "stream",
     "text": [
      "Tiger  10\n"
     ]
    }
   ],
   "source": [
    "class Cat:\n",
    "\n",
    "     def __init__(self, name, age):\n",
    "\n",
    "       \tself.name = name\n",
    "\n",
    "       \tself.age = age\n",
    "\n",
    "    def full_sentence(self):\n",
    "\n",
    "         return \"{}  {}\".format(self.name, self.age)\n",
    "\n",
    "\n",
    "cat= Cat(\"Tiger\", 10)\n",
    "\n",
    "print(cat.full_sentence())"
   ]
  },
  {
   "cell_type": "code",
   "execution_count": 35,
   "metadata": {},
   "outputs": [
    {
     "data": {
      "text/plain": [
       "True"
      ]
     },
     "execution_count": 35,
     "metadata": {},
     "output_type": "execute_result"
    }
   ],
   "source": [
    "class Dog:\n",
    "\n",
    "    def __init__(self, name, age):\n",
    "\n",
    "        self.name = name\n",
    "\n",
    "        self.age = age\n",
    "\n",
    "\n",
    "class Terrier(Dog):\n",
    "\n",
    "    pass\n",
    "\n",
    "\n",
    "class Dachshund(Dog):\n",
    "\n",
    "    pass\n",
    "\n",
    "\n",
    "class Bulldog(Dog):\n",
    "\n",
    "    pass\n",
    "\n",
    "\n",
    "dog1 = Terrier(\"Miles\", 4)\n",
    "\n",
    "dog2 = Dachshund(\"Buddy\", 9)\n",
    "\n",
    "dog3 = Bulldog(\"Jack\", 3)\n",
    "\n",
    "dog4 = Bulldog(\"Jim\", 5)\n",
    "\n",
    "isinstance(dog4, Dog)\n"
   ]
  },
  {
   "cell_type": "code",
   "execution_count": null,
   "metadata": {},
   "outputs": [],
   "source": [
    "from itertools import combinations\n",
    "\n",
    "inputs = input().split()\n",
    "word = inputs[0]\n",
    "val = int(inputs[1])\n",
    "\n",
    "result = sorted([''.join(c) for i in range(1, val+1)\n",
    "                for c in combinations(word, i)])\n",
    "\n",
    "for item in result:\n",
    "    print(item)\n"
   ]
  },
  {
   "cell_type": "code",
   "execution_count": 3,
   "metadata": {},
   "outputs": [
    {
     "name": "stdout",
     "output_type": "stream",
     "text": [
      "3 is largest\n"
     ]
    }
   ],
   "source": [
    "num1, num2, num3 = map(int, input(\"Please enter three numbers separated by spaces\").split())\n",
    "\n",
    "if num1 > num2 and num1 > num3:\n",
    "    print(f\"{num1} is largest\")\n",
    "elif num2 > num1 and num2 > num3:\n",
    "    print(f\"{num2} is largest\")\n",
    "elif num3 > num1 and num3 > num2:\n",
    "    print(f\"{num3} is largest\")\n",
    "else:\n",
    "    print(\"All are equal.\")"
   ]
  },
  {
   "cell_type": "code",
   "execution_count": 7,
   "metadata": {},
   "outputs": [
    {
     "name": "stdout",
     "output_type": "stream",
     "text": [
      "1190248 is positive\n"
     ]
    }
   ],
   "source": [
    "num = int(input())\n",
    "\n",
    "if num > 0:\n",
    "    print(f\"{num} is positive\")\n",
    "elif num < 0:\n",
    "    print(f\"{num} is negative\")\n",
    "else:\n",
    "    print(f\"{num} is zero\")"
   ]
  },
  {
   "cell_type": "code",
   "execution_count": 9,
   "metadata": {},
   "outputs": [],
   "source": [
    "age = False\n",
    "\n",
    "while age == False:\n",
    "    num = input(\"Please enter your age\")\n",
    "    if num.isdigit() and num.isdigit() >= 0:\n",
    "        age = True\n",
    "    "
   ]
  },
  {
   "cell_type": "code",
   "execution_count": 21,
   "metadata": {},
   "outputs": [
    {
     "name": "stdout",
     "output_type": "stream",
     "text": [
      "correct!\n"
     ]
    }
   ],
   "source": [
    "from random import randrange\n",
    "\n",
    "num = randrange(0, 3)\n",
    "flag = False\n",
    "guess = int(input(\"Please guess the number: \"))\n",
    "\n",
    "while flag == False:\n",
    "    if guess > num:\n",
    "        guess = int(input(\"Little lower: \"))\n",
    "    elif guess < num:\n",
    "        guess = int(input(\"Little higher: \"))\n",
    "    else:\n",
    "        print(\"correct!\")\n",
    "        flag = True\n"
   ]
  },
  {
   "cell_type": "code",
   "execution_count": 18,
   "metadata": {},
   "outputs": [
    {
     "name": "stdout",
     "output_type": "stream",
     "text": [
      "[1, 2, 3, 4, 5]\n"
     ]
    }
   ],
   "source": [
    "list1 = []\n",
    "for item in range(1, 6):\n",
    "    list1.append(item)\n",
    "\n",
    "print(list1)"
   ]
  },
  {
   "cell_type": "code",
   "execution_count": 33,
   "metadata": {},
   "outputs": [
    {
     "name": "stdout",
     "output_type": "stream",
     "text": [
      "f-l-i-z-z\n"
     ]
    }
   ],
   "source": [
    "string = input(\"Please enter a string: \")\n",
    "\n",
    "output = []\n",
    "for i in range(len(string)):\n",
    "    output.append(string[i])\n",
    "    result = (\"-\").join(output)\n",
    "print(result)"
   ]
  },
  {
   "cell_type": "code",
   "execution_count": 51,
   "metadata": {},
   "outputs": [
    {
     "name": "stdout",
     "output_type": "stream",
     "text": [
      "The longest word is f\n"
     ]
    }
   ],
   "source": [
    "inputs = list(map(str, input(\"Please enter as many words as you'd like, separated by spaces. This pogram will find the longest word, and print the input sentence as well as the length of the longest word. \").split()))\n",
    "\n",
    "i = 0\n",
    "longest = \"\"\n",
    "\n",
    "while i < len(inputs):\n",
    "    if len(inputs[i]) > len(longest):\n",
    "        longest = inputs[i]\n",
    "    i += 1\n",
    "\n",
    "print(f\"The longest word is {longest}\")\n"
   ]
  },
  {
   "cell_type": "code",
   "execution_count": 34,
   "metadata": {},
   "outputs": [
    {
     "name": "stdout",
     "output_type": "stream",
     "text": [
      "10 x 0 = 0\n",
      "10 x 1 = 10\n",
      "10 x 2 = 20\n",
      "10 x 3 = 30\n",
      "10 x 4 = 40\n",
      "10 x 5 = 50\n",
      "10 x 6 = 60\n",
      "10 x 7 = 70\n",
      "10 x 8 = 80\n",
      "10 x 9 = 90\n"
     ]
    }
   ],
   "source": [
    "num = int(input(\"Please enter a number between 1 and 10.\"))\n",
    "\n",
    "for number in range(11):\n",
    "    print(f\"{num} x {number} = {num * number}\")"
   ]
  },
  {
   "cell_type": "code",
   "execution_count": 40,
   "metadata": {},
   "outputs": [
    {
     "name": "stdout",
     "output_type": "stream",
     "text": [
      "[1, 3, 5, 7, 11, 13, 15, 17]\n",
      "[2, 4, 6, 12, 14, 16]\n"
     ]
    }
   ],
   "source": [
    "list1 = [1, 2, 3, 4, 5, 6, 7]\n",
    "list2 = [11, 12, 13, 14, 15, 16, 17]\n",
    "\n",
    "\n",
    "\n",
    "evens = []\n",
    "odds = []\n",
    "\n",
    "for item in list1:\n",
    "    if item % 2:\n",
    "        evens.append(item)\n",
    "    else:\n",
    "        odds.append(item)\n",
    "        \n",
    "for item in list2:\n",
    "    if item % 2:\n",
    "        evens.append(item)\n",
    "    else:\n",
    "        odds.append(item)\n",
    "        \n",
    "print(evens)\n",
    "print(odds)\n"
   ]
  },
  {
   "cell_type": "code",
   "execution_count": 41,
   "metadata": {},
   "outputs": [
    {
     "name": "stdout",
     "output_type": "stream",
     "text": [
      "odds:  6\n",
      "evens:  5\n"
     ]
    }
   ],
   "source": [
    "numbers = list(range(11))\n",
    "\n",
    "evens = 0\n",
    "odds = 0\n",
    "\n",
    "for num in numbers:\n",
    "    if num % 2:\n",
    "        evens += 1\n",
    "    else:\n",
    "        odds += 1\n",
    "        \n",
    "print(\"odds: \", odds)\n",
    "print(\"evens: \", evens)\n"
   ]
  },
  {
   "cell_type": "code",
   "execution_count": 44,
   "metadata": {},
   "outputs": [
    {
     "name": "stdout",
     "output_type": "stream",
     "text": [
      "2775\n"
     ]
    }
   ],
   "source": [
    "result = 0\n",
    "\n",
    "for num in range(75):\n",
    "    result += num\n",
    "print(result)"
   ]
  },
  {
   "cell_type": "code",
   "execution_count": null,
   "metadata": {},
   "outputs": [],
   "source": [
    "score = int(input(\"Please enter your score (between 0 and 100): \"))\n",
    "\n",
    "if score <= 79:\n",
    "    print(\"B-\")\n",
    "elif score >= 80 and score <= 84:\n",
    "    print(\"B\")\n",
    "elif score >= 85 and score <= 89:\n",
    "    print(\"B+\")\n",
    "elif score >= 90 and score <= 94:\n",
    "    print(\"A\")\n",
    "else: print(\"A+\")"
   ]
  },
  {
   "cell_type": "code",
   "execution_count": 54,
   "metadata": {},
   "outputs": [
    {
     "name": "stdout",
     "output_type": "stream",
     "text": [
      "[5, 22, 33, 44, 88]\n"
     ]
    }
   ],
   "source": [
    "numbers = [44, 22, 5, 88, 33]\n",
    "\n",
    "for i in range(len(numbers)):\n",
    "    for ii in range(i +1, len(numbers)):\n",
    "        if numbers[i] > numbers[ii]:\n",
    "            temp = numbers[i]\n",
    "            numbers[i] = numbers[ii]\n",
    "            numbers[ii] = temp\n",
    "            \n",
    "print(numbers)\n",
    "            \n",
    "            "
   ]
  },
  {
   "cell_type": "code",
   "execution_count": 67,
   "metadata": {},
   "outputs": [
    {
     "name": "stdout",
     "output_type": "stream",
     "text": [
      "[2, 4, 6, 8, 10]\n"
     ]
    }
   ],
   "source": [
    "evens = []\n",
    "odds = []\n",
    "for i in range(1, 11):\n",
    "    if i % 2 == 0:\n",
    "        evens.append(i)\n",
    "    else:\n",
    "        odds.append(i)\n",
    "print(evens)\n",
    "\n"
   ]
  },
  {
   "cell_type": "code",
   "execution_count": 68,
   "metadata": {},
   "outputs": [
    {
     "name": "stdout",
     "output_type": "stream",
     "text": [
      "[1, 4, 9, 16, 25, 36, 49, 64, 81, 100]\n"
     ]
    }
   ],
   "source": [
    "lst = [i**2 for i in range(1, 11)]\n",
    "print(lst)"
   ]
  },
  {
   "cell_type": "code",
   "execution_count": 71,
   "metadata": {},
   "outputs": [
    {
     "name": "stdout",
     "output_type": "stream",
     "text": [
      "Even\n"
     ]
    }
   ],
   "source": [
    "# ternary if\n",
    "\n",
    "num = 12\n",
    "result = \"Even\" if (num % 2 == 0) else \"Odd\"\n",
    "print(result)"
   ]
  },
  {
   "cell_type": "code",
   "execution_count": 72,
   "metadata": {},
   "outputs": [
    {
     "name": "stdout",
     "output_type": "stream",
     "text": [
      "[2, 4, 6, 8, 10]\n"
     ]
    }
   ],
   "source": [
    "evens = []\n",
    "odds = []\n",
    "for i in range(1, 11):\n",
    "    if i % 2 == 0:\n",
    "        evens.append(i)\n",
    "    else:\n",
    "        odds.append(i)\n",
    "print(evens)\n",
    "\n"
   ]
  },
  {
   "cell_type": "code",
   "execution_count": null,
   "metadata": {},
   "outputs": [],
   "source": [
    "evens = [i if (i % 2 == 0) else i+10 for i in range(1, 11)]\n"
   ]
  },
  {
   "cell_type": "code",
   "execution_count": 80,
   "metadata": {},
   "outputs": [
    {
     "data": {
      "text/plain": [
       "15"
      ]
     },
     "execution_count": 80,
     "metadata": {},
     "output_type": "execute_result"
    }
   ],
   "source": [
    "def calculate(num1, num2, oper):\n",
    "    if oper == \"+\":\n",
    "        result = num1 + num2\n",
    "    elif oper == \"-\":\n",
    "        result = num1 - num2\n",
    "    elif oper == \"/\":\n",
    "        result = num1 / num2\n",
    "    elif oper == \"*\":\n",
    "        result = num1 * num2\n",
    "    else: \n",
    "        result = \"Invalid operand\"\n",
    "        \n",
    "    return result\n",
    "    \n",
    "calculate(10, 5, \"*\")\n",
    "calculate(10, 5, \"/\")\n",
    "calculate(10, 5, \"-\")\n",
    "calculate(10, 5, \"+\")"
   ]
  },
  {
   "cell_type": "code",
   "execution_count": 104,
   "metadata": {},
   "outputs": [
    {
     "data": {
      "text/plain": [
       "'afoisdjf is not a palindrome'"
      ]
     },
     "execution_count": 104,
     "metadata": {},
     "output_type": "execute_result"
    }
   ],
   "source": [
    "def check_palindrome(string):\n",
    "    reverse = string[::-1]\n",
    "    return f\"{string} is a palindrome\" if reverse == string else f\"{string} is not a palindrome\"\n",
    "    \n",
    "    \n",
    "check_palindrome(input())"
   ]
  },
  {
   "cell_type": "code",
   "execution_count": 108,
   "metadata": {},
   "outputs": [
    {
     "data": {
      "text/plain": [
       "'Bnagladhessfsfk... About. string. a is this hello,'"
      ]
     },
     "execution_count": 108,
     "metadata": {},
     "output_type": "execute_result"
    }
   ],
   "source": [
    "def reverse_words(string):\n",
    "    string_arr = list(string.split())\n",
    "    reversed = string_arr[::-1]\n",
    "    return (\" \").join(reversed)\n",
    "        \n",
    "reverse_words(input())"
   ]
  },
  {
   "cell_type": "code",
   "execution_count": 14,
   "metadata": {},
   "outputs": [
    {
     "data": {
      "text/plain": [
       "'hello, my man'"
      ]
     },
     "execution_count": 14,
     "metadata": {},
     "output_type": "execute_result"
    }
   ],
   "source": [
    "#Write a function to remove the first occurrence of a given 'search string' from a string.\n",
    "\n",
    "def first_removal(query, string):\n",
    "    index = -1\n",
    "    for i in range(len(string)):\n",
    "        if string[i:i+len(query)] == query:\n",
    "            index = i\n",
    "            break\n",
    "    if index != -1:\n",
    "        return string[:index] + string[index+len(query):]\n",
    "    else:\n",
    "        return \"Substring not found\"\n",
    "        \n",
    "        \n",
    "first_removal(\"name is waz\", \"hello, my name is wazman\")\n"
   ]
  },
  {
   "cell_type": "code",
   "execution_count": 17,
   "metadata": {},
   "outputs": [
    {
     "name": "stdout",
     "output_type": "stream",
     "text": [
      "[[1, [2, 3], 4], 7, 8, 9]\n",
      "3\n"
     ]
    }
   ],
   "source": [
    "L1 = []\n",
    "L1.append([1, [2, 3], 4])\n",
    "L1.extend([7, 8, 9])\n",
    "print(L1)\n",
    "print(L1[0][1][1] + L1[2])"
   ]
  },
  {
   "cell_type": "code",
   "execution_count": 22,
   "metadata": {},
   "outputs": [
    {
     "name": "stdout",
     "output_type": "stream",
     "text": [
      "[('Apples', 5, 1.5), ('Apples', 5, 2.25), ('Apples', 5, 0.89), ('Apples', 3, 1.5), ('Apples', 3, 2.25), ('Apples', 3, 0.89), ('Apples', 4, 1.5), ('Apples', 4, 2.25), ('Apples', 4, 0.89), ('Oranges', 5, 1.5), ('Oranges', 5, 2.25), ('Oranges', 5, 0.89), ('Oranges', 3, 1.5), ('Oranges', 3, 2.25), ('Oranges', 3, 0.89), ('Oranges', 4, 1.5), ('Oranges', 4, 2.25), ('Oranges', 4, 0.89), ('Bananas', 5, 1.5), ('Bananas', 5, 2.25), ('Bananas', 5, 0.89), ('Bananas', 3, 1.5), ('Bananas', 3, 2.25), ('Bananas', 3, 0.89), ('Bananas', 4, 1.5), ('Bananas', 4, 2.25), ('Bananas', 4, 0.89)]\n"
     ]
    }
   ],
   "source": [
    "fruits = ['Apples', 'Oranges', 'Bananas']\n",
    "quantities = [5, 3, 4]\n",
    "prices = [1.50, 2.25, 0.89]\n",
    "i = 0\n",
    "output = []\n",
    "for fruit in fruits:\n",
    "    for qty in quantities:\n",
    "        for price in prices:\n",
    "            output.append((fruit, qty, price))\n",
    "    i += 1\n",
    "print(output)"
   ]
  },
  {
   "cell_type": "code",
   "execution_count": 23,
   "metadata": {},
   "outputs": [
    {
     "data": {
      "text/plain": [
       "'Red, Green, White, Black'"
      ]
     },
     "execution_count": 23,
     "metadata": {},
     "output_type": "execute_result"
    }
   ],
   "source": [
    "def joiner(input_array):\n",
    "    return (\", \").join(input_array)\n",
    "\n",
    "joiner([\"Red\", \"Green\", \"White\", \"Black\"])"
   ]
  },
  {
   "cell_type": "code",
   "execution_count": 35,
   "metadata": {},
   "outputs": [
    {
     "data": {
      "text/plain": [
       "'a occurred 5 times'"
      ]
     },
     "execution_count": 35,
     "metadata": {},
     "output_type": "execute_result"
    }
   ],
   "source": [
    "def most_freq(arr):\n",
    "    count_dict = {}\n",
    "    for i in arr:\n",
    "        if i in count_dict:\n",
    "            count_dict[i] += 1\n",
    "        else:\n",
    "            count_dict[i] = 1\n",
    "    max = 0\n",
    "    result = \"\"\n",
    "    for key, value in count_dict.items():\n",
    "        if value > max:\n",
    "            max = value\n",
    "            result = key\n",
    "    return f\"{result} occurred {max} times\"\n",
    "    \n",
    "most_freq([3, 'a', 'a', 'a', 2, 3, 'a', 3, 'a', 2, 4, 9, 3])"
   ]
  },
  {
   "cell_type": "code",
   "execution_count": 41,
   "metadata": {},
   "outputs": [
    {
     "name": "stdout",
     "output_type": "stream",
     "text": [
      "True\n"
     ]
    }
   ],
   "source": [
    "# This is an interview question asked by Google. Given a list of numbers and a number k, return whether any two numbers from the list add up to k.\n",
    "\n",
    "# For example, given [10, 15, 3, 7] and k of 17, return true since 10 + 7 is 17.\n",
    "\n",
    "def whether(arr, k):\n",
    "    for i in range(len(arr)):\n",
    "        for j in range(i + 1, len(arr)):\n",
    "            if arr[i] + arr[j] == k:\n",
    "                return True\n",
    "    return False\n",
    "    \n",
    "print(whether([10, 15, 3, 5, 12, 27], 17))\n"
   ]
  },
  {
   "cell_type": "code",
   "execution_count": 45,
   "metadata": {},
   "outputs": [
    {
     "data": {
      "text/plain": [
       "['elephant', 'desert', 'pumpkin']"
      ]
     },
     "execution_count": 45,
     "metadata": {},
     "output_type": "execute_result"
    }
   ],
   "source": [
    "def filter_strings(arr):\n",
    "    result = []\n",
    "    for i in arr:\n",
    "        if len(i) > 5:\n",
    "            result.append(i)\n",
    "    return result\n",
    "        \n",
    "filter_strings(['car', \"elephant\", \"desert\", \"pumpkin\", \"eat\", \"fish\", \"dish\"])"
   ]
  },
  {
   "cell_type": "code",
   "execution_count": 49,
   "metadata": {},
   "outputs": [
    {
     "name": "stdout",
     "output_type": "stream",
     "text": [
      "{'c': 2, 'l': 1, 'a': 2, 'r': 1, 'u': 1, 's': 1, 'w': 1, 'y': 1, '.': 1, 'o': 1, 'm': 1}\n"
     ]
    }
   ],
   "source": [
    "def rep_num(string):\n",
    "    count_dict = {}\n",
    "    for i in string:\n",
    "        if i in count_dict:\n",
    "            count_dict[i] += 1\n",
    "        else:\n",
    "            count_dict[i] = 1\n",
    "            \n",
    "    print(count_dict)\n",
    "\n",
    "rep_num(\"clarusway.com\")"
   ]
  },
  {
   "cell_type": "code",
   "execution_count": null,
   "metadata": {},
   "outputs": [],
   "source": [
    "list1 = [11, 4, 5, 9, 7]\n",
    "list2 = [5, 10, 4, 1, 10]\n",
    "list3 = [7, 3, 9, 5, 1]\n",
    "\n",
    "for i in "
   ]
  },
  {
   "cell_type": "code",
   "execution_count": 53,
   "metadata": {},
   "outputs": [
    {
     "name": "stdout",
     "output_type": "stream",
     "text": [
      "[1, 2, 3, 4, 5]\n"
     ]
    }
   ],
   "source": [
    "list1 = [1, 2, 3, 4, 5]\n",
    "result = []\n",
    "\n",
    "for i in range(len(list1)):\n",
    "    result.append()\n",
    "\n",
    "print(result)"
   ]
  }
 ],
 "metadata": {
  "kernelspec": {
   "display_name": "Python 3",
   "language": "python",
   "name": "python3"
  },
  "language_info": {
   "codemirror_mode": {
    "name": "ipython",
    "version": 3
   },
   "file_extension": ".py",
   "mimetype": "text/x-python",
   "name": "python",
   "nbconvert_exporter": "python",
   "pygments_lexer": "ipython3",
   "version": "3.10.6"
  },
  "orig_nbformat": 4
 },
 "nbformat": 4,
 "nbformat_minor": 2
}
